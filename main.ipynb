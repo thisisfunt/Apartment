{
 "cells": [
  {
   "cell_type": "code",
   "execution_count": 7,
   "metadata": {},
   "outputs": [],
   "source": [
    "import numpy as np\n",
    "from sklearn.ensemble import RandomForestClassifier\n",
    "from sklearn.model_selection import train_test_split\n",
    "import pandas as pd"
   ]
  },
  {
   "cell_type": "code",
   "execution_count": 60,
   "metadata": {},
   "outputs": [
    {
     "data": {
      "text/html": [
       "<div>\n",
       "<style scoped>\n",
       "    .dataframe tbody tr th:only-of-type {\n",
       "        vertical-align: middle;\n",
       "    }\n",
       "\n",
       "    .dataframe tbody tr th {\n",
       "        vertical-align: top;\n",
       "    }\n",
       "\n",
       "    .dataframe thead th {\n",
       "        text-align: right;\n",
       "    }\n",
       "</style>\n",
       "<table border=\"1\" class=\"dataframe\">\n",
       "  <thead>\n",
       "    <tr style=\"text-align: right;\">\n",
       "      <th></th>\n",
       "      <th>SalePrice</th>\n",
       "      <th>YearBuilt</th>\n",
       "      <th>YrSold</th>\n",
       "      <th>MonthSold</th>\n",
       "      <th>Size(sqf)</th>\n",
       "      <th>Floor</th>\n",
       "      <th>HallwayType</th>\n",
       "      <th>HeatingType</th>\n",
       "      <th>AptManageType</th>\n",
       "      <th>N_Parkinglot(Ground)</th>\n",
       "      <th>...</th>\n",
       "      <th>N_FacilitiesNearBy(Mall)</th>\n",
       "      <th>N_FacilitiesNearBy(ETC)</th>\n",
       "      <th>N_FacilitiesNearBy(Park)</th>\n",
       "      <th>N_SchoolNearBy(Elementary)</th>\n",
       "      <th>N_SchoolNearBy(Middle)</th>\n",
       "      <th>N_SchoolNearBy(High)</th>\n",
       "      <th>N_SchoolNearBy(University)</th>\n",
       "      <th>N_FacilitiesInApt</th>\n",
       "      <th>N_FacilitiesNearBy(Total)</th>\n",
       "      <th>N_SchoolNearBy(Total)</th>\n",
       "    </tr>\n",
       "  </thead>\n",
       "  <tbody>\n",
       "    <tr>\n",
       "      <th>0</th>\n",
       "      <td>141592</td>\n",
       "      <td>2006</td>\n",
       "      <td>2007</td>\n",
       "      <td>8</td>\n",
       "      <td>814</td>\n",
       "      <td>3</td>\n",
       "      <td>terraced</td>\n",
       "      <td>individual_heating</td>\n",
       "      <td>management_in_trust</td>\n",
       "      <td>111.0</td>\n",
       "      <td>...</td>\n",
       "      <td>1.0</td>\n",
       "      <td>1.0</td>\n",
       "      <td>0.0</td>\n",
       "      <td>3.0</td>\n",
       "      <td>2.0</td>\n",
       "      <td>2.0</td>\n",
       "      <td>2.0</td>\n",
       "      <td>5</td>\n",
       "      <td>6.0</td>\n",
       "      <td>9.0</td>\n",
       "    </tr>\n",
       "    <tr>\n",
       "      <th>1</th>\n",
       "      <td>51327</td>\n",
       "      <td>1985</td>\n",
       "      <td>2007</td>\n",
       "      <td>8</td>\n",
       "      <td>587</td>\n",
       "      <td>8</td>\n",
       "      <td>corridor</td>\n",
       "      <td>individual_heating</td>\n",
       "      <td>self_management</td>\n",
       "      <td>80.0</td>\n",
       "      <td>...</td>\n",
       "      <td>1.0</td>\n",
       "      <td>2.0</td>\n",
       "      <td>1.0</td>\n",
       "      <td>2.0</td>\n",
       "      <td>1.0</td>\n",
       "      <td>1.0</td>\n",
       "      <td>0.0</td>\n",
       "      <td>3</td>\n",
       "      <td>12.0</td>\n",
       "      <td>4.0</td>\n",
       "    </tr>\n",
       "    <tr>\n",
       "      <th>2</th>\n",
       "      <td>48672</td>\n",
       "      <td>1985</td>\n",
       "      <td>2007</td>\n",
       "      <td>8</td>\n",
       "      <td>587</td>\n",
       "      <td>6</td>\n",
       "      <td>corridor</td>\n",
       "      <td>individual_heating</td>\n",
       "      <td>self_management</td>\n",
       "      <td>80.0</td>\n",
       "      <td>...</td>\n",
       "      <td>1.0</td>\n",
       "      <td>2.0</td>\n",
       "      <td>1.0</td>\n",
       "      <td>2.0</td>\n",
       "      <td>1.0</td>\n",
       "      <td>1.0</td>\n",
       "      <td>0.0</td>\n",
       "      <td>3</td>\n",
       "      <td>12.0</td>\n",
       "      <td>4.0</td>\n",
       "    </tr>\n",
       "    <tr>\n",
       "      <th>3</th>\n",
       "      <td>380530</td>\n",
       "      <td>2006</td>\n",
       "      <td>2007</td>\n",
       "      <td>8</td>\n",
       "      <td>2056</td>\n",
       "      <td>8</td>\n",
       "      <td>terraced</td>\n",
       "      <td>individual_heating</td>\n",
       "      <td>management_in_trust</td>\n",
       "      <td>249.0</td>\n",
       "      <td>...</td>\n",
       "      <td>1.0</td>\n",
       "      <td>0.0</td>\n",
       "      <td>0.0</td>\n",
       "      <td>2.0</td>\n",
       "      <td>2.0</td>\n",
       "      <td>1.0</td>\n",
       "      <td>2.0</td>\n",
       "      <td>5</td>\n",
       "      <td>3.0</td>\n",
       "      <td>7.0</td>\n",
       "    </tr>\n",
       "    <tr>\n",
       "      <th>4</th>\n",
       "      <td>221238</td>\n",
       "      <td>1993</td>\n",
       "      <td>2007</td>\n",
       "      <td>8</td>\n",
       "      <td>1761</td>\n",
       "      <td>3</td>\n",
       "      <td>mixed</td>\n",
       "      <td>individual_heating</td>\n",
       "      <td>management_in_trust</td>\n",
       "      <td>523.0</td>\n",
       "      <td>...</td>\n",
       "      <td>1.0</td>\n",
       "      <td>5.0</td>\n",
       "      <td>0.0</td>\n",
       "      <td>4.0</td>\n",
       "      <td>3.0</td>\n",
       "      <td>5.0</td>\n",
       "      <td>5.0</td>\n",
       "      <td>4</td>\n",
       "      <td>14.0</td>\n",
       "      <td>17.0</td>\n",
       "    </tr>\n",
       "  </tbody>\n",
       "</table>\n",
       "<p>5 rows × 30 columns</p>\n",
       "</div>"
      ],
      "text/plain": [
       "   SalePrice  YearBuilt  YrSold  MonthSold  Size(sqf)  Floor HallwayType  \\\n",
       "0     141592       2006    2007          8        814      3    terraced   \n",
       "1      51327       1985    2007          8        587      8    corridor   \n",
       "2      48672       1985    2007          8        587      6    corridor   \n",
       "3     380530       2006    2007          8       2056      8    terraced   \n",
       "4     221238       1993    2007          8       1761      3       mixed   \n",
       "\n",
       "          HeatingType        AptManageType  N_Parkinglot(Ground)  \\\n",
       "0  individual_heating  management_in_trust                 111.0   \n",
       "1  individual_heating      self_management                  80.0   \n",
       "2  individual_heating      self_management                  80.0   \n",
       "3  individual_heating  management_in_trust                 249.0   \n",
       "4  individual_heating  management_in_trust                 523.0   \n",
       "\n",
       "           ...            N_FacilitiesNearBy(Mall) N_FacilitiesNearBy(ETC)  \\\n",
       "0          ...                                 1.0                     1.0   \n",
       "1          ...                                 1.0                     2.0   \n",
       "2          ...                                 1.0                     2.0   \n",
       "3          ...                                 1.0                     0.0   \n",
       "4          ...                                 1.0                     5.0   \n",
       "\n",
       "  N_FacilitiesNearBy(Park)  N_SchoolNearBy(Elementary)  \\\n",
       "0                      0.0                         3.0   \n",
       "1                      1.0                         2.0   \n",
       "2                      1.0                         2.0   \n",
       "3                      0.0                         2.0   \n",
       "4                      0.0                         4.0   \n",
       "\n",
       "   N_SchoolNearBy(Middle)  N_SchoolNearBy(High) N_SchoolNearBy(University)  \\\n",
       "0                     2.0                   2.0                        2.0   \n",
       "1                     1.0                   1.0                        0.0   \n",
       "2                     1.0                   1.0                        0.0   \n",
       "3                     2.0                   1.0                        2.0   \n",
       "4                     3.0                   5.0                        5.0   \n",
       "\n",
       "   N_FacilitiesInApt  N_FacilitiesNearBy(Total)  N_SchoolNearBy(Total)  \n",
       "0                  5                        6.0                    9.0  \n",
       "1                  3                       12.0                    4.0  \n",
       "2                  3                       12.0                    4.0  \n",
       "3                  5                        3.0                    7.0  \n",
       "4                  4                       14.0                   17.0  \n",
       "\n",
       "[5 rows x 30 columns]"
      ]
     },
     "execution_count": 60,
     "metadata": {},
     "output_type": "execute_result"
    }
   ],
   "source": [
    "data = pd.read_csv(\"apartment.csv\")\n",
    "data.head()"
   ]
  },
  {
   "cell_type": "code",
   "execution_count": 63,
   "metadata": {},
   "outputs": [],
   "source": [
    "data = data.drop(['HallwayType', 'HeatingType', 'AptManageType',\n",
    "       'N_Parkinglot(Basement)', 'TimeToBusStop', 'TimeToSubway', 'N_APT',\n",
    "       'N_manager', 'N_elevators', 'SubwayStation',\n",
    "       'N_FacilitiesNearBy(PublicOffice)', 'N_FacilitiesNearBy(Hospital)',\n",
    "       'N_FacilitiesNearBy(Dpartmentstore)'], axis='columns')"
   ]
  },
  {
   "cell_type": "code",
   "execution_count": 64,
   "metadata": {},
   "outputs": [
    {
     "data": {
      "text/plain": [
       "Index(['SalePrice', 'YearBuilt', 'YrSold', 'MonthSold', 'Size(sqf)', 'Floor',\n",
       "       'N_Parkinglot(Ground)', 'N_FacilitiesNearBy(Mall)',\n",
       "       'N_FacilitiesNearBy(ETC)', 'N_FacilitiesNearBy(Park)',\n",
       "       'N_SchoolNearBy(Elementary)', 'N_SchoolNearBy(Middle)',\n",
       "       'N_SchoolNearBy(High)', 'N_SchoolNearBy(University)',\n",
       "       'N_FacilitiesInApt', 'N_FacilitiesNearBy(Total)',\n",
       "       'N_SchoolNearBy(Total)'],\n",
       "      dtype='object')"
      ]
     },
     "execution_count": 64,
     "metadata": {},
     "output_type": "execute_result"
    }
   ],
   "source": [
    "data.columns"
   ]
  },
  {
   "cell_type": "code",
   "execution_count": 65,
   "metadata": {},
   "outputs": [],
   "source": [
    "X = data.loc[:, \"YearBuilt\":\"N_SchoolNearBy(Total)\"]\n",
    "Y = data[\"SalePrice\"]"
   ]
  },
  {
   "cell_type": "code",
   "execution_count": 89,
   "metadata": {},
   "outputs": [],
   "source": [
    "X_train, X_test, Y_train, Y_test = train_test_split(X, Y, test_size=0.03, random_state=1)"
   ]
  },
  {
   "cell_type": "code",
   "execution_count": 90,
   "metadata": {},
   "outputs": [
    {
     "data": {
      "text/plain": [
       "RandomForestClassifier(bootstrap=True, class_weight=None, criterion='gini',\n",
       "            max_depth=200, max_features='auto', max_leaf_nodes=None,\n",
       "            min_impurity_decrease=0.0, min_impurity_split=None,\n",
       "            min_samples_leaf=1, min_samples_split=2,\n",
       "            min_weight_fraction_leaf=0.0, n_estimators=10, n_jobs=1,\n",
       "            oob_score=False, random_state=1, verbose=0, warm_start=False)"
      ]
     },
     "execution_count": 90,
     "metadata": {},
     "output_type": "execute_result"
    }
   ],
   "source": [
    "rfr = RandomForestClassifier(max_depth=20, random_state=1)\n",
    "rfr.fit(X_train, Y_train)"
   ]
  },
  {
   "cell_type": "code",
   "execution_count": 91,
   "metadata": {},
   "outputs": [
    {
     "name": "stdout",
     "output_type": "stream",
     "text": [
      "Train data predict:  0.9310465523276164\n",
      "Test data predict:   0.12994350282485875\n"
     ]
    }
   ],
   "source": [
    "print(\"Train data predict: \", rfr.score(X_train, Y_train))\n",
    "print(\"Test data predict:  \", rfr.score(X_test, Y_test))"
   ]
  },
  {
   "cell_type": "code",
   "execution_count": null,
   "metadata": {},
   "outputs": [],
   "source": []
  }
 ],
 "metadata": {
  "kernelspec": {
   "display_name": "Python 3",
   "language": "python",
   "name": "python3"
  },
  "language_info": {
   "codemirror_mode": {
    "name": "ipython",
    "version": 3
   },
   "file_extension": ".py",
   "mimetype": "text/x-python",
   "name": "python",
   "nbconvert_exporter": "python",
   "pygments_lexer": "ipython3",
   "version": "3.6.5"
  }
 },
 "nbformat": 4,
 "nbformat_minor": 2
}
